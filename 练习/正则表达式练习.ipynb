{
 "cells": [
  {
   "cell_type": "code",
   "execution_count": 1,
   "metadata": {},
   "outputs": [
    {
     "name": "stdout",
     "output_type": "stream",
     "text": [
      "(0, 3)\n",
      "None\n"
     ]
    }
   ],
   "source": [
    "#!/usr/bin/python\n",
    " \n",
    "import re\n",
    "print(re.match('www', 'www.runoob.com').span())  # 在起始位置匹配\n",
    "print(re.match('com', 'www.runoob.com'))         # 不在起始位置匹配"
   ]
  },
  {
   "cell_type": "code",
   "execution_count": 2,
   "metadata": {},
   "outputs": [
    {
     "name": "stdout",
     "output_type": "stream",
     "text": [
      "matchObj.group() :  Cats are smarter than dogs\n",
      "matchObj.group(1) :  Cats\n",
      "matchObj.group(2) :  smarter\n"
     ]
    }
   ],
   "source": [
    "#!/usr/bin/python3\n",
    "import re\n",
    " \n",
    "line = \"Cats are smarter than dogs\"\n",
    "# .* 表示任意匹配除换行符（\\n、\\r）之外的任何单个或多个字符\n",
    "matchObj = re.match( r'(.*) are (.*?) .*', line, re.M|re.I)\n",
    " \n",
    "if matchObj:\n",
    "   print (\"matchObj.group() : \", matchObj.group())\n",
    "   print (\"matchObj.group(1) : \", matchObj.group(1))\n",
    "   print (\"matchObj.group(2) : \", matchObj.group(2))\n",
    "else:\n",
    "   print (\"No match!!\")"
   ]
  },
  {
   "cell_type": "code",
   "execution_count": 3,
   "metadata": {},
   "outputs": [
    {
     "name": "stdout",
     "output_type": "stream",
     "text": [
      "(0, 3)\n",
      "(11, 14)\n"
     ]
    }
   ],
   "source": [
    "#!/usr/bin/python3\n",
    " \n",
    "import re\n",
    " \n",
    "print(re.search('www', 'www.runoob.com').span())  # 在起始位置匹配\n",
    "print(re.search('com', 'www.runoob.com').span())         # 不在起始位置匹配"
   ]
  },
  {
   "cell_type": "code",
   "execution_count": 4,
   "metadata": {},
   "outputs": [
    {
     "name": "stdout",
     "output_type": "stream",
     "text": [
      "searchObj.group() :  Cats are smarter than dogs\n",
      "searchObj.group(1) :  Cats\n",
      "searchObj.group(2) :  smarter\n"
     ]
    }
   ],
   "source": [
    "#!/usr/bin/python3\n",
    " \n",
    "import re\n",
    " \n",
    "line = \"Cats are smarter than dogs\";\n",
    " \n",
    "searchObj = re.search( r'(.*) are (.*?) .*', line, re.M|re.I)\n",
    " \n",
    "if searchObj:\n",
    "   print (\"searchObj.group() : \", searchObj.group())\n",
    "   print (\"searchObj.group(1) : \", searchObj.group(1))\n",
    "   print (\"searchObj.group(2) : \", searchObj.group(2))\n",
    "else:\n",
    "   print (\"Nothing found!!\")"
   ]
  },
  {
   "cell_type": "code",
   "execution_count": 5,
   "metadata": {},
   "outputs": [
    {
     "name": "stdout",
     "output_type": "stream",
     "text": [
      "No match!!\n",
      "search --> matchObj.group() :  dogs\n"
     ]
    }
   ],
   "source": [
    "#!/usr/bin/python3\n",
    " \n",
    "import re\n",
    " \n",
    "line = \"Cats are smarter than dogs\";\n",
    " \n",
    "matchObj = re.match( r'dogs', line, re.M|re.I)\n",
    "if matchObj:\n",
    "   print (\"match --> matchObj.group() : \", matchObj.group())\n",
    "else:\n",
    "   print (\"No match!!\")\n",
    " \n",
    "matchObj = re.search( r'dogs', line, re.M|re.I)\n",
    "if matchObj:\n",
    "   print (\"search --> matchObj.group() : \", matchObj.group())\n",
    "else:\n",
    "   print (\"No match!!\")"
   ]
  },
  {
   "cell_type": "code",
   "execution_count": 6,
   "metadata": {},
   "outputs": [
    {
     "name": "stdout",
     "output_type": "stream",
     "text": [
      "电话号码 :  2004-959-559 \n",
      "电话号码 :  2004959559\n"
     ]
    }
   ],
   "source": [
    "#!/usr/bin/python3\n",
    "import re\n",
    " \n",
    "phone = \"2004-959-559 # 这是一个电话号码\"\n",
    " \n",
    "# 删除注释\n",
    "num = re.sub(r'#.*$', \"\", phone)\n",
    "print (\"电话号码 : \", num)\n",
    " \n",
    "# 移除非数字的内容\n",
    "num = re.sub(r'\\D', \"\", phone)\n",
    "print (\"电话号码 : \", num)"
   ]
  },
  {
   "cell_type": "code",
   "execution_count": 7,
   "metadata": {},
   "outputs": [
    {
     "name": "stdout",
     "output_type": "stream",
     "text": [
      "A46G8HFD1134\n"
     ]
    }
   ],
   "source": [
    "#!/usr/bin/python\n",
    " \n",
    "import re\n",
    " \n",
    "# 将匹配的数字乘于 2\n",
    "def double(matched):\n",
    "    value = int(matched.group('value'))\n",
    "    return str(value * 2)\n",
    " \n",
    "s = 'A23G4HFD567'\n",
    "print(re.sub('(?P<value>\\d+)', double, s))"
   ]
  },
  {
   "cell_type": "code",
   "execution_count": 8,
   "metadata": {},
   "outputs": [
    {
     "name": "stdout",
     "output_type": "stream",
     "text": [
      "None\n",
      "None\n",
      "<re.Match object; span=(3, 5), match='12'>\n"
     ]
    },
    {
     "data": {
      "text/plain": [
       "(3, 5)"
      ]
     },
     "execution_count": 8,
     "metadata": {},
     "output_type": "execute_result"
    }
   ],
   "source": [
    "import re\n",
    "pattern = re.compile(r'\\d+')                    # 用于匹配至少一个数字\n",
    "m = pattern.match('one12twothree34four')        # 查找头部，没有匹配\n",
    "print(m)\n",
    "\n",
    "m = pattern.match('one12twothree34four', 2, 10) # 从'e'的位置开始匹配，没有匹配\n",
    "print(m)\n",
    "\n",
    "m = pattern.match('one12twothree34four', 3, 10) # 从'1'的位置开始匹配，m = pattern.match('one12twothree34four', 3, 10) # 从'1'的位置开始匹配，正好匹配\n",
    "print(m)                                         # 返回一个 Match 对象\n",
    "\n",
    "m.group(0)   # 可省略 0\n",
    "\n",
    "m.start(0)   # 可省略 0\n",
    "\n",
    "m.end(0)     # 可省略 0\n",
    "\n",
    "m.span(0)    # 可省略 0\n"
   ]
  },
  {
   "cell_type": "code",
   "execution_count": 9,
   "metadata": {},
   "outputs": [
    {
     "name": "stdout",
     "output_type": "stream",
     "text": [
      "<re.Match object; span=(0, 11), match='Hello World'>\n"
     ]
    },
    {
     "data": {
      "text/plain": [
       "('Hello', 'World')"
      ]
     },
     "execution_count": 9,
     "metadata": {},
     "output_type": "execute_result"
    }
   ],
   "source": [
    "import re\n",
    "pattern = re.compile(r'([a-z]+) ([a-z]+)', re.I)   # re.I 表示忽略大小写\n",
    "m = pattern.match('Hello World Wide Web')\n",
    "print(m)                               # 匹配成功，返回一个 Match 对象\n",
    "\n",
    "m.group(0)                            # 返回匹配成功的整个子串\n",
    "\n",
    "m.span(0)                             # 返回匹配成功的整个子串的索引\n",
    "\n",
    "m.group(1)                            # 返回第一个分组匹配成功的子串\n",
    "\n",
    "m.span(1)                             # 返回第一个分组匹配成功的子串的索引\n",
    "\n",
    "m.group(2)                            # 返回第二个分组匹配成功的子串\n",
    "\n",
    "m.span(2)                             # 返回第二个分组匹配成功的子串索引\n",
    "\n",
    "m.groups()                            # 等价于 (m.group(1), m.group(2), ...)\n",
    "\n",
    "#m.group(3)                            # 不存在第三个分组\n"
   ]
  },
  {
   "cell_type": "code",
   "execution_count": 10,
   "metadata": {},
   "outputs": [
    {
     "name": "stdout",
     "output_type": "stream",
     "text": [
      "['123', '456']\n",
      "['88', '12']\n"
     ]
    }
   ],
   "source": [
    "import re\n",
    " \n",
    "pattern = re.compile(r'\\d+')   # 查找数字\n",
    "result1 = pattern.findall('runoob 123 google 456')\n",
    "result2 = pattern.findall('run88oob123google456', 0, 10)\n",
    " \n",
    "print(result1)\n",
    "print(result2)"
   ]
  },
  {
   "cell_type": "code",
   "execution_count": 11,
   "metadata": {},
   "outputs": [
    {
     "name": "stdout",
     "output_type": "stream",
     "text": [
      "12\n",
      "32\n",
      "43\n",
      "3\n"
     ]
    }
   ],
   "source": [
    "import re\n",
    " \n",
    "it = re.finditer(r\"\\d+\",\"12a32bc43jf3\") \n",
    "for match in it: \n",
    "    print (match.group() )"
   ]
  },
  {
   "cell_type": "code",
   "execution_count": 12,
   "metadata": {},
   "outputs": [
    {
     "name": "stdout",
     "output_type": "stream",
     "text": [
      "12\n",
      "32\n",
      "43\n",
      "3\n"
     ]
    }
   ],
   "source": [
    "import re\n",
    "\n",
    "pattern = re.compile(r\"\\d+\")\n",
    "it = pattern.finditer(\"12a32bc43jf3\") \n",
    "for match in it: \n",
    "    print (match.group() )"
   ]
  },
  {
   "cell_type": "code",
   "execution_count": 13,
   "metadata": {},
   "outputs": [
    {
     "data": {
      "text/plain": [
       "['runoob', 'runoob', 'runoob', '']"
      ]
     },
     "execution_count": 13,
     "metadata": {},
     "output_type": "execute_result"
    }
   ],
   "source": [
    "re.split('\\W+', 'runoob, runoob, runoob.')"
   ]
  },
  {
   "cell_type": "code",
   "execution_count": 14,
   "metadata": {},
   "outputs": [
    {
     "data": {
      "text/plain": [
       "['', ' ', 'runoob', ', ', 'runoob', ', ', 'runoob', '.', '']"
      ]
     },
     "execution_count": 14,
     "metadata": {},
     "output_type": "execute_result"
    }
   ],
   "source": [
    "re.split('(\\W+)', ' runoob, runoob, runoob.') "
   ]
  },
  {
   "cell_type": "code",
   "execution_count": 15,
   "metadata": {},
   "outputs": [
    {
     "data": {
      "text/plain": [
       "['', 'runoob, runoob, runoob.']"
      ]
     },
     "execution_count": 15,
     "metadata": {},
     "output_type": "execute_result"
    }
   ],
   "source": [
    "re.split('\\W+', ' runoob, runoob, runoob.', 1)"
   ]
  },
  {
   "cell_type": "code",
   "execution_count": 16,
   "metadata": {},
   "outputs": [
    {
     "data": {
      "text/plain": [
       "['', 'h', 'e', 'l', 'l', 'o', ' ', 'w', 'o', 'r', 'l', 'd', '']"
      ]
     },
     "execution_count": 16,
     "metadata": {},
     "output_type": "execute_result"
    }
   ],
   "source": [
    "re.split('a*', 'hello world')   # 对于一个找不到匹配的字符串而言，split 不会对其作出分割"
   ]
  },
  {
   "cell_type": "markdown",
   "metadata": {},
   "source": [
    "正则表达式修饰符 - 可选标志\n",
    "正则表达式可以包含一些可选标志修饰符来控制匹配的模式。修饰符被指定为一个可选的标志。多个标志可以通过按位 OR(|) 它们来指定。如 re.I | re.M 被设置成 I 和 M 标志：\n",
    "\n",
    "修饰符\t描述\n",
    "re.I\t使匹配对大小写不敏感\n",
    "re.L\t做本地化识别（locale-aware）匹配\n",
    "re.M\t多行匹配，影响 ^ 和 $\n",
    "re.S\t使 . 匹配包括换行在内的所有字符\n",
    "re.U\t根据Unicode字符集解析字符。这个标志影响 \\w, \\W, \\b, \\B.\n",
    "re.X\t该标志通过给予你更灵活的格式以便你将正则表达式写得更易于理解。\n",
    "正则表达式模式\n",
    "模式字符串使用特殊的语法来表示一个正则表达式：\n",
    "\n",
    "字母和数字表示他们自身。一个正则表达式模式中的字母和数字匹配同样的字符串。\n",
    "\n",
    "多数字母和数字前加一个反斜杠时会拥有不同的含义。\n",
    "\n",
    "标点符号只有被转义时才匹配自身，否则它们表示特殊的含义。\n",
    "\n",
    "反斜杠本身需要使用反斜杠转义。\n",
    "\n",
    "由于正则表达式通常都包含反斜杠，所以你最好使用原始字符串来表示它们。模式元素(如 r'\\t'，等价于 \\\\t )匹配相应的特殊字符。\n",
    "\n",
    "下表列出了正则表达式模式语法中的特殊元素。如果你使用模式的同时提供了可选的标志参数，某些模式元素的含义会改变。\n",
    "\n",
    "模式\t描述\n",
    "^\t匹配字符串的开头\n",
    "$\t匹配字符串的末尾。\n",
    ".\t匹配任意字符，除了换行符，当re.DOTALL标记被指定时，则可以匹配包括换行符的任意字符。\n",
    "[...]\t用来表示一组字符,单独列出：[amk] 匹配 'a'，'m'或'k'\n",
    "[^...]\t不在[]中的字符：[^abc] 匹配除了a,b,c之外的字符。\n",
    "re*\t匹配0个或多个的表达式。\n",
    "re+\t匹配1个或多个的表达式。\n",
    "re?\t匹配0个或1个由前面的正则表达式定义的片段，非贪婪方式\n",
    "re{ n}\t匹配n个前面表达式。例如，\"o{2}\"不能匹配\"Bob\"中的\"o\"，但是能匹配\"food\"中的两个o。\n",
    "re{ n,}\t精确匹配n个前面表达式。例如，\"o{2,}\"不能匹配\"Bob\"中的\"o\"，但能匹配\"foooood\"中的所有o。\"o{1,}\"等价于\"o+\"。\"o{0,}\"则等价于\"o*\"。\n",
    "re{ n, m}\t匹配 n 到 m 次由前面的正则表达式定义的片段，贪婪方式\n",
    "a| b\t匹配a或b\n",
    "(re)\t匹配括号内的表达式，也表示一个组\n",
    "(?imx)\t正则表达式包含三种可选标志：i, m, 或 x 。只影响括号中的区域。\n",
    "(?-imx)\t正则表达式关闭 i, m, 或 x 可选标志。只影响括号中的区域。\n",
    "(?: re)\t类似 (...), 但是不表示一个组\n",
    "(?imx: re)\t在括号中使用i, m, 或 x 可选标志\n",
    "(?-imx: re)\t在括号中不使用i, m, 或 x 可选标志\n",
    "(?#...)\t注释.\n",
    "(?= re)\t前向肯定界定符。如果所含正则表达式，以 ... 表示，在当前位置成功匹配时成功，否则失败。但一旦所含表达式已经尝试，匹配引擎根本没有提高；模式的剩余部分还要尝试界定符的右边。\n",
    "(?! re)\t前向否定界定符。与肯定界定符相反；当所含表达式不能在字符串当前位置匹配时成功。\n",
    "(?> re)\t匹配的独立模式，省去回溯。\n",
    "\\w\t匹配数字字母下划线\n",
    "\\W\t匹配非数字字母下划线\n",
    "\\s\t匹配任意空白字符，等价于 [\\t\\n\\r\\f]。\n",
    "\\S\t匹配任意非空字符\n",
    "\\d\t匹配任意数字，等价于 [0-9]。\n",
    "\\D\t匹配任意非数字\n",
    "\\A\t匹配字符串开始\n",
    "\\Z\t匹配字符串结束，如果是存在换行，只匹配到换行前的结束字符串。\n",
    "\\z\t匹配字符串结束\n",
    "\\G\t匹配最后匹配完成的位置。\n",
    "\\b\t匹配一个单词边界，也就是指单词和空格间的位置。例如， 'er\\b' 可以匹配\"never\" 中的 'er'，但不能匹配 \"verb\" 中的 'er'。\n",
    "\\B\t匹配非单词边界。'er\\B' 能匹配 \"verb\" 中的 'er'，但不能匹配 \"never\" 中的 'er'。\n",
    "\\n, \\t, 等。\t匹配一个换行符。匹配一个制表符, 等\n",
    "\\1...\\9\t匹配第n个分组的内容。\n",
    "\\10\t匹配第n个分组的内容，如果它经匹配。否则指的是八进制字符码的表达式。\n",
    "正则表达式实例\n",
    "字符匹配\n",
    "实例\t描述\n",
    "python\t匹配 \"python\".\n",
    "字符类\n",
    "实例\t描述\n",
    "[Pp]ython\t匹配 \"Python\" 或 \"python\"\n",
    "rub[ye]\t匹配 \"ruby\" 或 \"rube\"\n",
    "[aeiou]\t匹配中括号内的任意一个字母\n",
    "[0-9]\t匹配任何数字。类似于 [0123456789]\n",
    "[a-z]\t匹配任何小写字母\n",
    "[A-Z]\t匹配任何大写字母\n",
    "[a-zA-Z0-9]\t匹配任何字母及数字\n",
    "[^aeiou]\t除了aeiou字母以外的所有字符\n",
    "[^0-9]\t匹配除了数字外的字符\n",
    "特殊字符类\n",
    "实例\t描述\n",
    ".\t匹配除 \"\\n\" 之外的任何单个字符。要匹配包括 '\\n' 在内的任何字符，请使用象 '[.\\n]' 的模式。\n",
    "\\d\t匹配一个数字字符。等价于 [0-9]。\n",
    "\\D\t匹配一个非数字字符。等价于 [^0-9]。\n",
    "\\s\t匹配任何空白字符，包括空格、制表符、换页符等等。等价于 [ \\f\\n\\r\\t\\v]。\n",
    "\\S\t匹配任何非空白字符。等价于 [^ \\f\\n\\r\\t\\v]。\n",
    "\\w\t匹配包括下划线的任何单词字符。等价于'[A-Za-z0-9_]'。\n",
    "\\W\t匹配任何非单词字符。等价于 '[^A-Za-z0-9_]'。"
   ]
  },
  {
   "cell_type": "code",
   "execution_count": null,
   "metadata": {},
   "outputs": [],
   "source": []
  }
 ],
 "metadata": {
  "kernelspec": {
   "display_name": "Python 3",
   "language": "python",
   "name": "python3"
  },
  "language_info": {
   "codemirror_mode": {
    "name": "ipython",
    "version": 3
   },
   "file_extension": ".py",
   "mimetype": "text/x-python",
   "name": "python",
   "nbconvert_exporter": "python",
   "pygments_lexer": "ipython3",
   "version": "3.7.3"
  }
 },
 "nbformat": 4,
 "nbformat_minor": 2
}
